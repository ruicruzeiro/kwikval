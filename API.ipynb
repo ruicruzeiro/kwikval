{
 "cells": [
  {
   "cell_type": "markdown",
   "id": "9b0a2ef9",
   "metadata": {},
   "source": [
    "KWIKVAL - Rui Cruzeiro - Dezembro 2022\n",
    "\n",
    "O objectivo deste documento é a criação de uma ferramenta simples de avaliação de apartamentos (Kwikval) com recurso a Machine Learning. Os passos dados pela ferramenta são os seguintes:\n",
    "1. INPUTS: Pedir ao utilizador um distrito, um concelho, coordenadas geográficas e a Área Bruta Privativa do imóvel (conforme registado na Caderneta Predial);\n",
    "2. API: Pesquisar os anúncios do Idealista que mais se assemelham ao fornecido pelo utilizador. Para tal, foi criada uma conta no RapidAPI que permite 500 pesquisas gratuitas por mês na API do Idealista;\n",
    "3. MÉTODO TRADICIONAL (COMPARATIVO DE MERCADO): Fazer homogeneização de áreas e dedução da margem de negociação;\n",
    "4. MACHINE LEARNING: Aplicação de Regressão Linear com o Scikit-Learn (o que corresponde à aplicação do Método Comparativo de Mercado (método tradicional de avaliação imobiliária)."
   ]
  },
  {
   "cell_type": "code",
   "execution_count": 249,
   "id": "c065ff1f",
   "metadata": {},
   "outputs": [],
   "source": [
    "import numpy as np\n",
    "import pandas as pd\n",
    "import requests\n",
    "from math import radians, cos, sin, asin, sqrt\n",
    "from concelhos import dados_concelhos\n",
    "from idealista_api import api_key\n",
    "from sklearn.linear_model import LinearRegression"
   ]
  },
  {
   "cell_type": "markdown",
   "id": "e54b41d7",
   "metadata": {},
   "source": [
    "## INPUTS"
   ]
  },
  {
   "cell_type": "markdown",
   "id": "d4140e5b",
   "metadata": {},
   "source": [
    "O utilizador introduz um distrito, um concelho, a Área Bruta Privativa e a Área Bruta Dependente. Os três primeiros serão usados para construir o request a fazer à API do Idealista."
   ]
  },
  {
   "cell_type": "code",
   "execution_count": 217,
   "id": "d637db8c",
   "metadata": {},
   "outputs": [],
   "source": [
    "# Exemplo de trabalho\n",
    "\n",
    "user_distrito = 'Coimbra'\n",
    "user_concelho = 'Coimbra'\n",
    "user_area = 83\n",
    "user_dep = 39"
   ]
  },
  {
   "cell_type": "markdown",
   "id": "8221a2cb",
   "metadata": {},
   "source": [
    "O utilizador fornece também as coordenadas de localização do imóvel. Estas serão usadas para seleccionar os imóveis mais próximos entre todos aqueles devolvidos pelo request à API."
   ]
  },
  {
   "cell_type": "code",
   "execution_count": 218,
   "id": "e37a99ba",
   "metadata": {},
   "outputs": [],
   "source": [
    "user_lat = 40.201609\n",
    "user_lon = -8.398287\n",
    "user_coord_str = str(user_lat) + ',' + str(user_lon)"
   ]
  },
  {
   "cell_type": "markdown",
   "id": "37d15e11",
   "metadata": {},
   "source": [
    "As coordenadas fornecidas pelo utilizador não podem ultrapassar os limites geográficos de Portugal."
   ]
  },
  {
   "cell_type": "code",
   "execution_count": 177,
   "id": "138d55af",
   "metadata": {},
   "outputs": [],
   "source": [
    "# Pontos geográficos extremos de Portugal\n",
    "max_lat_N = 42.153978\n",
    "max_lat_S = 32.632960\n",
    "max_lon_W = -31.274995\n",
    "max_lon_E = -6.189363"
   ]
  },
  {
   "cell_type": "markdown",
   "id": "420953b7",
   "metadata": {},
   "source": [
    "## API"
   ]
  },
  {
   "cell_type": "markdown",
   "id": "ced0b064",
   "metadata": {},
   "source": [
    "Para obter uma lista de imóveis à venda numa zona, é necessário fazer um GET request à API introduzindo o ID e o nome da zona. O ID da zona corresponde à concatenação apresentada no campo seguinte, em que o dicionário `dados_concelhos`, construído manualmente, faz corresponder um número ao concelho inserido pelo utilizador. Na maior parte dos concelhos, esse número corresponde ao código da Autoridade Tributária para o concelho. O nome da zona é obtido na própria API partindo do ID."
   ]
  },
  {
   "cell_type": "markdown",
   "id": "0d613c3e",
   "metadata": {},
   "source": [
    "Obtenção do ID da zona:"
   ]
  },
  {
   "cell_type": "code",
   "execution_count": 219,
   "id": "2d5c6c65",
   "metadata": {},
   "outputs": [
    {
     "data": {
      "text/plain": [
       "'0-EU-PT-06-03'"
      ]
     },
     "execution_count": 219,
     "metadata": {},
     "output_type": "execute_result"
    }
   ],
   "source": [
    "zona_id = '0-EU-PT-' + dados_concelhos[user_distrito][user_concelho]\n",
    "zona_id"
   ]
  },
  {
   "cell_type": "markdown",
   "id": "dbd151b8",
   "metadata": {},
   "source": [
    "Obtenção do nome da zona:"
   ]
  },
  {
   "cell_type": "code",
   "execution_count": 220,
   "id": "f8a94541",
   "metadata": {
    "scrolled": true
   },
   "outputs": [
    {
     "data": {
      "text/plain": [
       "'Coimbra, Coimbra'"
      ]
     },
     "execution_count": 220,
     "metadata": {},
     "output_type": "execute_result"
    }
   ],
   "source": [
    "# Obtém json da API com informação sobre IDs e nomes de zonas similares ao do concelho fornecido pelo utilizador\n",
    "\n",
    "url = \"https://idealista2.p.rapidapi.com/auto-complete\"\n",
    "querystring = {\"prefix\":user_concelho, \"country\":\"pt\"}\n",
    "\n",
    "headers = {\n",
    "    \"X-RapidAPI-Key\": api_key,\n",
    "    \"X-RapidAPI-Host\": \"idealista2.p.rapidapi.com\"\n",
    "}\n",
    "\n",
    "response = requests.request(\"GET\", url, headers=headers, params=querystring)\n",
    "zonas = response.json()\n",
    "\n",
    "# Compara as zonas obtidas acima com a zona pretendida através do ID da zona e obtém o nome\n",
    "\n",
    "for zona in zonas['locations']:\n",
    "    try:\n",
    "        if zona['locationId'] == zona_id:\n",
    "            zona_nome = zona['name']\n",
    "    except Exception:\n",
    "        pass\n",
    "    \n",
    "zona_nome"
   ]
  },
  {
   "cell_type": "markdown",
   "id": "80461cf7",
   "metadata": {},
   "source": [
    "Com o ID e o nome, é possível obter a lista das propriedades no concelho escolhido (usando também as coordenadas). Esta informação é actualizada diariamente pelo Idealista. A API só permite um número máximo de 40 resultados por request, portanto são feitos 3 requests às 3 primeiras páginas de resultados correspondentes.\n",
    "É feito um pedido de anúncios activos de imóveis residenciais com uma variação de área de 10% relativamente ao imóvel em avaliação."
   ]
  },
  {
   "cell_type": "code",
   "execution_count": 221,
   "id": "f3e584ee",
   "metadata": {},
   "outputs": [],
   "source": [
    "# Recolhe a informação nas 3 primeiras páginas de resultados do Idealista\n",
    "# (O Idealista não lança mais do que 40 resultados por página, mesmo que maxItens seja superior)\n",
    "\n",
    "url = \"https://idealista2.p.rapidapi.com/properties/list\"\n",
    "\n",
    "resultados_pesq = []\n",
    "\n",
    "for i in range(1,4): # 3 requests\n",
    "    \n",
    "    querystring = {\n",
    "        \"locationId\": zona_id,\n",
    "        \"locationName\": zona_nome,\n",
    "        \"operation\": \"sale\",\n",
    "        \"numPage\": str(i), # 3 primeiras páginas\n",
    "        \"propertyType\": \"homes\",\n",
    "        \"center\": user_coord_str,\n",
    "        \"distance\": 10,\n",
    "        \"maxSize\": int(user_area * 1.1),\n",
    "        \"minSize\": int(user_area * 0.9),\n",
    "        \"state\": \"active\",\n",
    "        \"maxItems\": 50,\n",
    "        \"sort\": \"asc\", # ascendente em preço\n",
    "        \"locale\": \"pt\",\n",
    "        \"country\": \"pt\"\n",
    "    }\n",
    "\n",
    "    headers = {\n",
    "        \"X-RapidAPI-Key\": api_key,\n",
    "        \"X-RapidAPI-Host\": \"idealista2.p.rapidapi.com\"\n",
    "    }\n",
    "\n",
    "    response = requests.request(\"GET\", url, headers=headers, params=querystring)\n",
    "    resultados_pesq.append(response.json()['elementList'])\n",
    "\n",
    "# Cria uma lista \"flattened\" com os 120 resultados    \n",
    "resultados_lista = [item for sublist in resultados_pesq for item in sublist]"
   ]
  },
  {
   "cell_type": "markdown",
   "id": "50f6459e",
   "metadata": {},
   "source": [
    "A API só permite filtrar por `\"homes\"`, o que inclui todo o tipo de imóveis residenciais, não só apartamentos. Portanto, é necessário filtrar a lista obtida acima por `\"flat\"`."
   ]
  },
  {
   "cell_type": "markdown",
   "id": "c5963772",
   "metadata": {},
   "source": [
    "Nota: Os resultados filtrados encontrados a seguir serão usados na secção de Machine Learning."
   ]
  },
  {
   "cell_type": "code",
   "execution_count": 239,
   "id": "60e89c32",
   "metadata": {},
   "outputs": [],
   "source": [
    "# Filtra apenas os apartamentos\n",
    "\n",
    "resultados_filtrados = []\n",
    "\n",
    "for resultado in resultados_lista:\n",
    "    if resultado['propertyType'] == 'flat':\n",
    "        resultados_filtrados.append(resultado)"
   ]
  },
  {
   "cell_type": "markdown",
   "id": "b18edc2c",
   "metadata": {},
   "source": [
    "## MÉTODO TRADICIONAL (COMPARATIVO DE MERCADO)"
   ]
  },
  {
   "cell_type": "markdown",
   "id": "e6a1e2bb",
   "metadata": {},
   "source": [
    "De todos os resultados, são seleccionados os 10 com coordenadas mais próximas à fornecida pelo utilizador. Para cálculo da distância entre o imóvel em avaliação e os da lista, foi usada a fórmula de haversine. Esta foi definida na função seguinte."
   ]
  },
  {
   "cell_type": "code",
   "execution_count": 223,
   "id": "99c4b26c",
   "metadata": {},
   "outputs": [],
   "source": [
    "def haversine(lat1, lon1, lat2, lon2):\n",
    "    \"\"\"\n",
    "    Distância entre dois pontos de uma esfera a partir das suas latitudes e longitudes\n",
    "    \"\"\"\n",
    "    \n",
    "    # Converte graus decimais para radianos\n",
    "    lat1, lon1, lat2, lon2 = map(radians, [lat1, lon1, lat2, lon2])\n",
    "\n",
    "    # Fórmula de haversine \n",
    "    dlon = lon2 - lon1 \n",
    "    dlat = lat2 - lat1 \n",
    "    a = sin(dlat/2)**2 + cos(lat1) * cos(lat2) * sin(dlon/2)**2\n",
    "    c = 2 * asin(sqrt(a)) \n",
    "    r = 6371 # Raio da Terra em quilómetros\n",
    "    return c * r"
   ]
  },
  {
   "cell_type": "code",
   "execution_count": 224,
   "id": "83f268ef",
   "metadata": {},
   "outputs": [],
   "source": [
    "# Calcula as distâncias haversine e devolve a lista dos 10 imóveis mais próximos (comparáveis para o Método Comparativo)\n",
    "\n",
    "distancias_lista = []\n",
    "\n",
    "for resultado in resultados_filtrados:\n",
    "    distancias_lista.append(haversine(user_lat, user_lon, float(resultado['latitude']), float(resultado['longitude'])))\n",
    "    \n",
    "distancias_ind = [distancias_lista.index(dist) for dist in sorted(distancias_lista)[:10]]\n",
    "\n",
    "comparaveis = [resultados_filtrados[ind] for ind in distancias_ind]"
   ]
  },
  {
   "cell_type": "markdown",
   "id": "ba250cc2",
   "metadata": {},
   "source": [
    "Estes são os 10 apartamentos mais próximos geograficamente do apartamento que se pretende avaliar:"
   ]
  },
  {
   "cell_type": "code",
   "execution_count": 225,
   "id": "beb09111",
   "metadata": {},
   "outputs": [
    {
     "name": "stdout",
     "output_type": "stream",
     "text": [
      "https://www.idealista.pt/imovel/32245918\n",
      "https://www.idealista.pt/imovel/32245918\n",
      "https://www.idealista.pt/imovel/32196614\n",
      "https://www.idealista.pt/imovel/32256241\n",
      "https://www.idealista.pt/imovel/31585637\n",
      "https://www.idealista.pt/imovel/32237085\n",
      "https://www.idealista.pt/imovel/32331860\n",
      "https://www.idealista.pt/imovel/32187569\n",
      "https://www.idealista.pt/imovel/32340979\n",
      "https://www.idealista.pt/imovel/31426856\n"
     ]
    }
   ],
   "source": [
    "for comparavel in comparaveis:\n",
    "    print('https://www.idealista.pt/imovel/' + comparavel['propertyCode'])"
   ]
  },
  {
   "cell_type": "markdown",
   "id": "8d61e740",
   "metadata": {},
   "source": [
    "Visto que o valor do apartamento não varia linearmente com a área, é necessário fazer homogeneização de áreas. Esta foi feita com base na Fórmula de Ajustamento de Pulsares do Prof. Ruy Figueiredo, que ajusta a área de imóveis residenciais calculando um factor de homogeneização pela fórmula seguinte:"
   ]
  },
  {
   "cell_type": "markdown",
   "id": "eaad0226",
   "metadata": {},
   "source": [
    "$f_{homogeneização} = \\Biggl( \\dfrac{A_{comparável}}{A_{imóvel \\thinspace em \\thinspace avaliação}}\\ \\Biggr) ^{1/4} $"
   ]
  },
  {
   "cell_type": "markdown",
   "id": "e8c1520a",
   "metadata": {},
   "source": [
    "Na homogeneização, é também deduzida uma percentagem de 5% ao valor anunciado dos comparáveis, correspondente à habitual margem de negociação."
   ]
  },
  {
   "cell_type": "code",
   "execution_count": 226,
   "id": "50f35ae1",
   "metadata": {},
   "outputs": [],
   "source": [
    "val_unit_comparaveis = [comparavel['price']/comparavel['size'] for comparavel in comparaveis]\n",
    "f_homog_areas = [(comparavel['size']/user_area)**0.25 for comparavel in comparaveis]\n",
    "f_margem_neg = [0.95 for comparavel in comparaveis]"
   ]
  },
  {
   "cell_type": "markdown",
   "id": "3795bbec",
   "metadata": {},
   "source": [
    "A multiplicação destas três listas foi feita transformando-as em arrays do NumPy."
   ]
  },
  {
   "cell_type": "code",
   "execution_count": 243,
   "id": "3dcf2f21",
   "metadata": {},
   "outputs": [],
   "source": [
    "val_unit_homogeneizado = np.array(val_unit_comparaveis) * np.array(f_homog_areas) * np.array(f_margem_neg)"
   ]
  },
  {
   "cell_type": "markdown",
   "id": "6dd9c170",
   "metadata": {},
   "source": [
    "Assim, pode finalmente calcular-se o valor do imóvel pelo Método Comparativo de Mercado (um método tradicional de avaliação). É habitual considerar-se para a Área Bruta Dependente um valor unitário correspondente a 30% daquele que é encontrado para a Área Bruta Privativa. Aqui fez-se o mesmo."
   ]
  },
  {
   "cell_type": "code",
   "execution_count": 247,
   "id": "7d912a44",
   "metadata": {},
   "outputs": [
    {
     "name": "stdout",
     "output_type": "stream",
     "text": [
      "O valor do apartamento obtido pelo Método Comparativo de Mercado é 204300 €.\n",
      "(arredondado às centenas)\n"
     ]
    }
   ],
   "source": [
    "val_unit_imovel = sum(aaa) / len(aaa)\n",
    "valor_area = val_unit_imovel * user_area\n",
    "valor_dep = val_unit_imovel * user_dep * 0.3\n",
    "valor_tradicional = valor_area + valor_dep\n",
    "print('O valor do apartamento obtido pelo Método Comparativo de Mercado é ' + str(int(round(valor_tradicional,-2))) + ' €.')\n",
    "print('(arredondado às centenas)')"
   ]
  },
  {
   "cell_type": "markdown",
   "id": "d8431716",
   "metadata": {},
   "source": [
    "## MACHINE LEARNING"
   ]
  },
  {
   "cell_type": "markdown",
   "id": "57aa3748",
   "metadata": {},
   "source": [
    "De seguida, procura determinar-se o valor do imóvel através de Machine Learning. Usando a Regressão Linear do Scikit-Learn, vamos treinar o modelo com os resultados devolvidos pela API (apenas os apartamentos obtidos após a filtragem). Seria desejável uma quantidade de dados superior, mas os requests gratuitos à API são limitados. De qualquer modo, tendo sido feita uma filtragem prévia dos apartamentos por localização e área, e sendo o número de features reduzido, considera-se que a amostra usada é coesa. No fundo, trata-se de uma Regressão Linear mais completa do que a que é feita manualmente pelo Método Comparativo de Mercado."
   ]
  },
  {
   "cell_type": "markdown",
   "id": "b4111ce6",
   "metadata": {},
   "source": [
    "O passo inicial é visualizar os dados e perceber que informações fornecidas pela API podem ser relevantes na determinação do valor do apartamento. Para isso, foi criada uma Dataframe com os resultados filtrados."
   ]
  },
  {
   "cell_type": "code",
   "execution_count": 263,
   "id": "fecc1747",
   "metadata": {},
   "outputs": [
    {
     "data": {
      "text/html": [
       "<div>\n",
       "<style scoped>\n",
       "    .dataframe tbody tr th:only-of-type {\n",
       "        vertical-align: middle;\n",
       "    }\n",
       "\n",
       "    .dataframe tbody tr th {\n",
       "        vertical-align: top;\n",
       "    }\n",
       "\n",
       "    .dataframe thead th {\n",
       "        text-align: right;\n",
       "    }\n",
       "</style>\n",
       "<table border=\"1\" class=\"dataframe\">\n",
       "  <thead>\n",
       "    <tr style=\"text-align: right;\">\n",
       "      <th></th>\n",
       "      <th>propertyCode</th>\n",
       "      <th>thumbnail</th>\n",
       "      <th>externalReference</th>\n",
       "      <th>numPhotos</th>\n",
       "      <th>floor</th>\n",
       "      <th>price</th>\n",
       "      <th>propertyType</th>\n",
       "      <th>operation</th>\n",
       "      <th>size</th>\n",
       "      <th>exterior</th>\n",
       "      <th>...</th>\n",
       "      <th>preferenceHighlight</th>\n",
       "      <th>topHighlight</th>\n",
       "      <th>superTopHighlight</th>\n",
       "      <th>topNewDevelopment</th>\n",
       "      <th>district</th>\n",
       "      <th>priceDropValue</th>\n",
       "      <th>dropDate</th>\n",
       "      <th>priceDropPercentage</th>\n",
       "      <th>features</th>\n",
       "      <th>highlightComment</th>\n",
       "    </tr>\n",
       "  </thead>\n",
       "  <tbody>\n",
       "    <tr>\n",
       "      <th>0</th>\n",
       "      <td>31839009</td>\n",
       "      <td>https://img3.idealista.pt/blur/WEB_LISTING-M/0...</td>\n",
       "      <td>GLTS2203</td>\n",
       "      <td>22</td>\n",
       "      <td>1</td>\n",
       "      <td>68000.0</td>\n",
       "      <td>flat</td>\n",
       "      <td>sale</td>\n",
       "      <td>82.0</td>\n",
       "      <td>False</td>\n",
       "      <td>...</td>\n",
       "      <td>False</td>\n",
       "      <td>False</td>\n",
       "      <td>False</td>\n",
       "      <td>False</td>\n",
       "      <td>NaN</td>\n",
       "      <td>NaN</td>\n",
       "      <td>NaN</td>\n",
       "      <td>NaN</td>\n",
       "      <td>NaN</td>\n",
       "      <td>NaN</td>\n",
       "    </tr>\n",
       "    <tr>\n",
       "      <th>1</th>\n",
       "      <td>31426856</td>\n",
       "      <td>https://img3.idealista.pt/blur/WEB_LISTING-M/0...</td>\n",
       "      <td>125431005-112</td>\n",
       "      <td>17</td>\n",
       "      <td>st</td>\n",
       "      <td>100000.0</td>\n",
       "      <td>flat</td>\n",
       "      <td>sale</td>\n",
       "      <td>81.0</td>\n",
       "      <td>False</td>\n",
       "      <td>...</td>\n",
       "      <td>False</td>\n",
       "      <td>False</td>\n",
       "      <td>False</td>\n",
       "      <td>False</td>\n",
       "      <td>Solum</td>\n",
       "      <td>NaN</td>\n",
       "      <td>NaN</td>\n",
       "      <td>NaN</td>\n",
       "      <td>NaN</td>\n",
       "      <td>NaN</td>\n",
       "    </tr>\n",
       "    <tr>\n",
       "      <th>2</th>\n",
       "      <td>32256874</td>\n",
       "      <td>https://img3.idealista.pt/blur/WEB_LISTING-M/0...</td>\n",
       "      <td>C0242-02010</td>\n",
       "      <td>6</td>\n",
       "      <td>bj</td>\n",
       "      <td>111000.0</td>\n",
       "      <td>flat</td>\n",
       "      <td>sale</td>\n",
       "      <td>88.0</td>\n",
       "      <td>False</td>\n",
       "      <td>...</td>\n",
       "      <td>False</td>\n",
       "      <td>False</td>\n",
       "      <td>False</td>\n",
       "      <td>False</td>\n",
       "      <td>NaN</td>\n",
       "      <td>NaN</td>\n",
       "      <td>NaN</td>\n",
       "      <td>NaN</td>\n",
       "      <td>NaN</td>\n",
       "      <td>NaN</td>\n",
       "    </tr>\n",
       "    <tr>\n",
       "      <th>3</th>\n",
       "      <td>32255879</td>\n",
       "      <td>https://img3.idealista.pt/blur/WEB_LISTING-M/0...</td>\n",
       "      <td>CBRIP 4603</td>\n",
       "      <td>21</td>\n",
       "      <td>bj</td>\n",
       "      <td>116000.0</td>\n",
       "      <td>flat</td>\n",
       "      <td>sale</td>\n",
       "      <td>84.0</td>\n",
       "      <td>False</td>\n",
       "      <td>...</td>\n",
       "      <td>False</td>\n",
       "      <td>False</td>\n",
       "      <td>False</td>\n",
       "      <td>False</td>\n",
       "      <td>NaN</td>\n",
       "      <td>NaN</td>\n",
       "      <td>NaN</td>\n",
       "      <td>NaN</td>\n",
       "      <td>NaN</td>\n",
       "      <td>NaN</td>\n",
       "    </tr>\n",
       "    <tr>\n",
       "      <th>4</th>\n",
       "      <td>32254699</td>\n",
       "      <td>https://img3.idealista.pt/blur/WEB_LISTING-M/0...</td>\n",
       "      <td>123351024-397</td>\n",
       "      <td>21</td>\n",
       "      <td>4</td>\n",
       "      <td>116000.0</td>\n",
       "      <td>flat</td>\n",
       "      <td>sale</td>\n",
       "      <td>84.0</td>\n",
       "      <td>False</td>\n",
       "      <td>...</td>\n",
       "      <td>False</td>\n",
       "      <td>False</td>\n",
       "      <td>False</td>\n",
       "      <td>False</td>\n",
       "      <td>NaN</td>\n",
       "      <td>NaN</td>\n",
       "      <td>NaN</td>\n",
       "      <td>NaN</td>\n",
       "      <td>NaN</td>\n",
       "      <td>NaN</td>\n",
       "    </tr>\n",
       "  </tbody>\n",
       "</table>\n",
       "<p>5 rows × 50 columns</p>\n",
       "</div>"
      ],
      "text/plain": [
       "  propertyCode                                          thumbnail  \\\n",
       "0     31839009  https://img3.idealista.pt/blur/WEB_LISTING-M/0...   \n",
       "1     31426856  https://img3.idealista.pt/blur/WEB_LISTING-M/0...   \n",
       "2     32256874  https://img3.idealista.pt/blur/WEB_LISTING-M/0...   \n",
       "3     32255879  https://img3.idealista.pt/blur/WEB_LISTING-M/0...   \n",
       "4     32254699  https://img3.idealista.pt/blur/WEB_LISTING-M/0...   \n",
       "\n",
       "  externalReference  numPhotos floor     price propertyType operation  size  \\\n",
       "0          GLTS2203         22     1   68000.0         flat      sale  82.0   \n",
       "1     125431005-112         17    st  100000.0         flat      sale  81.0   \n",
       "2       C0242-02010          6    bj  111000.0         flat      sale  88.0   \n",
       "3        CBRIP 4603         21    bj  116000.0         flat      sale  84.0   \n",
       "4     123351024-397         21     4  116000.0         flat      sale  84.0   \n",
       "\n",
       "   exterior  ...  preferenceHighlight  topHighlight superTopHighlight  \\\n",
       "0     False  ...                False         False             False   \n",
       "1     False  ...                False         False             False   \n",
       "2     False  ...                False         False             False   \n",
       "3     False  ...                False         False             False   \n",
       "4     False  ...                False         False             False   \n",
       "\n",
       "  topNewDevelopment district priceDropValue dropDate  priceDropPercentage  \\\n",
       "0             False      NaN            NaN      NaN                  NaN   \n",
       "1             False    Solum            NaN      NaN                  NaN   \n",
       "2             False      NaN            NaN      NaN                  NaN   \n",
       "3             False      NaN            NaN      NaN                  NaN   \n",
       "4             False      NaN            NaN      NaN                  NaN   \n",
       "\n",
       "   features  highlightComment  \n",
       "0       NaN               NaN  \n",
       "1       NaN               NaN  \n",
       "2       NaN               NaN  \n",
       "3       NaN               NaN  \n",
       "4       NaN               NaN  \n",
       "\n",
       "[5 rows x 50 columns]"
      ]
     },
     "execution_count": 263,
     "metadata": {},
     "output_type": "execute_result"
    }
   ],
   "source": [
    "df = pd.DataFrame(resultados_filtrados)\n",
    "df.head()"
   ]
  },
  {
   "cell_type": "markdown",
   "id": "ff3a571e",
   "metadata": {},
   "source": [
    "A API devolve muitos campos que são desnecessários para a nossa análise. De seguida, extraem-se apenas os que nos interessam."
   ]
  },
  {
   "cell_type": "markdown",
   "id": "2ca685d0",
   "metadata": {},
   "source": [
    "Nota: A informação sobre se uma propriedade é nova ou não está, muitas vezes, por preencher nos anúncios. Desconheço o motivo, mas pela minha experiência na consulta do Idealista para fazer avaliações, acho preferível ignorar os campos `newDevelopment` e `newProperty`."
   ]
  },
  {
   "cell_type": "code",
   "execution_count": 264,
   "id": "b4ce0588",
   "metadata": {},
   "outputs": [
    {
     "data": {
      "text/html": [
       "<div>\n",
       "<style scoped>\n",
       "    .dataframe tbody tr th:only-of-type {\n",
       "        vertical-align: middle;\n",
       "    }\n",
       "\n",
       "    .dataframe tbody tr th {\n",
       "        vertical-align: top;\n",
       "    }\n",
       "\n",
       "    .dataframe thead th {\n",
       "        text-align: right;\n",
       "    }\n",
       "</style>\n",
       "<table border=\"1\" class=\"dataframe\">\n",
       "  <thead>\n",
       "    <tr style=\"text-align: right;\">\n",
       "      <th></th>\n",
       "      <th>floor</th>\n",
       "      <th>price</th>\n",
       "      <th>size</th>\n",
       "      <th>rooms</th>\n",
       "      <th>bathrooms</th>\n",
       "      <th>status</th>\n",
       "      <th>hasLift</th>\n",
       "      <th>parkingSpace</th>\n",
       "    </tr>\n",
       "  </thead>\n",
       "  <tbody>\n",
       "    <tr>\n",
       "      <th>0</th>\n",
       "      <td>1</td>\n",
       "      <td>68000.0</td>\n",
       "      <td>82.0</td>\n",
       "      <td>2</td>\n",
       "      <td>1</td>\n",
       "      <td>good</td>\n",
       "      <td>False</td>\n",
       "      <td>{'hasParkingSpace': True, 'isParkingSpaceInclu...</td>\n",
       "    </tr>\n",
       "    <tr>\n",
       "      <th>1</th>\n",
       "      <td>st</td>\n",
       "      <td>100000.0</td>\n",
       "      <td>81.0</td>\n",
       "      <td>3</td>\n",
       "      <td>1</td>\n",
       "      <td>good</td>\n",
       "      <td>False</td>\n",
       "      <td>NaN</td>\n",
       "    </tr>\n",
       "    <tr>\n",
       "      <th>2</th>\n",
       "      <td>bj</td>\n",
       "      <td>111000.0</td>\n",
       "      <td>88.0</td>\n",
       "      <td>4</td>\n",
       "      <td>1</td>\n",
       "      <td>renew</td>\n",
       "      <td>False</td>\n",
       "      <td>NaN</td>\n",
       "    </tr>\n",
       "    <tr>\n",
       "      <th>3</th>\n",
       "      <td>bj</td>\n",
       "      <td>116000.0</td>\n",
       "      <td>84.0</td>\n",
       "      <td>2</td>\n",
       "      <td>1</td>\n",
       "      <td>good</td>\n",
       "      <td>False</td>\n",
       "      <td>NaN</td>\n",
       "    </tr>\n",
       "    <tr>\n",
       "      <th>4</th>\n",
       "      <td>4</td>\n",
       "      <td>116000.0</td>\n",
       "      <td>84.0</td>\n",
       "      <td>2</td>\n",
       "      <td>1</td>\n",
       "      <td>good</td>\n",
       "      <td>True</td>\n",
       "      <td>{'hasParkingSpace': True, 'isParkingSpaceInclu...</td>\n",
       "    </tr>\n",
       "  </tbody>\n",
       "</table>\n",
       "</div>"
      ],
      "text/plain": [
       "  floor     price  size  rooms  bathrooms status hasLift  \\\n",
       "0     1   68000.0  82.0      2          1   good   False   \n",
       "1    st  100000.0  81.0      3          1   good   False   \n",
       "2    bj  111000.0  88.0      4          1  renew   False   \n",
       "3    bj  116000.0  84.0      2          1   good   False   \n",
       "4     4  116000.0  84.0      2          1   good    True   \n",
       "\n",
       "                                        parkingSpace  \n",
       "0  {'hasParkingSpace': True, 'isParkingSpaceInclu...  \n",
       "1                                                NaN  \n",
       "2                                                NaN  \n",
       "3                                                NaN  \n",
       "4  {'hasParkingSpace': True, 'isParkingSpaceInclu...  "
      ]
     },
     "execution_count": 264,
     "metadata": {},
     "output_type": "execute_result"
    }
   ],
   "source": [
    "df = df[['floor', 'price', 'size', 'rooms', 'bathrooms', 'status', 'hasLift', 'parkingSpace']]\n",
    "df.head()"
   ]
  },
  {
   "cell_type": "markdown",
   "id": "36812c45",
   "metadata": {},
   "source": [
    "Próximos passos:\n",
    "    incluir o numero de quartos no metodo tradicional\n",
    "    fazer o encoding dos campos floor, rooms, bathroomes, status, hasLift e parkingSpace"
   ]
  },
  {
   "cell_type": "code",
   "execution_count": null,
   "id": "00e62c41",
   "metadata": {},
   "outputs": [],
   "source": []
  }
 ],
 "metadata": {
  "kernelspec": {
   "display_name": "Python 3 (ipykernel)",
   "language": "python",
   "name": "python3"
  },
  "language_info": {
   "codemirror_mode": {
    "name": "ipython",
    "version": 3
   },
   "file_extension": ".py",
   "mimetype": "text/x-python",
   "name": "python",
   "nbconvert_exporter": "python",
   "pygments_lexer": "ipython3",
   "version": "3.8.12"
  },
  "toc": {
   "base_numbering": "",
   "nav_menu": {},
   "number_sections": false,
   "sideBar": true,
   "skip_h1_title": false,
   "title_cell": "Table of Contents",
   "title_sidebar": "Contents",
   "toc_cell": false,
   "toc_position": {
    "height": "calc(100% - 180px)",
    "left": "10px",
    "top": "150px",
    "width": "267px"
   },
   "toc_section_display": true,
   "toc_window_display": false
  }
 },
 "nbformat": 4,
 "nbformat_minor": 5
}
