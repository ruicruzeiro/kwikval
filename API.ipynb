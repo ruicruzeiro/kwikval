{
 "cells": [
  {
   "cell_type": "markdown",
   "id": "9b0a2ef9",
   "metadata": {},
   "source": [
    "KWIKVAL - Rui Cruzeiro - Dezembro 2022\n",
    "\n",
    "O objectivo deste documento é a criação de uma ferramenta simples de avaliação imobiliária (Kwikval) com recurso a Machine Learning. Os passos dados pela ferramenta são os seguintes:\n",
    "1. INPUTS: Pedir ao utilizador um distrito, um concelho, coordenadas geográficas, um tipo de imóvel e a sua Área Bruta Dependente (conforme registado na Caderneta Predial);\n",
    "2. API: Pesquisar os anúncios do Idealista que mais se assemelham ao fornecido pelo utilizador. Para tal, foi criada uma conta no RapidAPI que permite 500 pesquisas gratuitas por mês na API do Idealista;\n",
    "3. HOMOGENEIZAÇÃO: Fazer homogeneização de áreas e dedução da margem de negociação;\n",
    "4. MACHINE LEARNING: Aplicação de Regressão Linear com o Scikit-Learn (o que corresponde à aplicação do Método Comparativo de Mercado (método tradicional de avaliação imobiliária)."
   ]
  },
  {
   "cell_type": "code",
   "execution_count": null,
   "id": "4e077c9d",
   "metadata": {},
   "outputs": [],
   "source": [
    "import requests\n",
    "from concelhos import dados_concelhos\n",
    "from idealista_api import api_key"
   ]
  },
  {
   "cell_type": "markdown",
   "id": "e54b41d7",
   "metadata": {},
   "source": [
    "## INPUTS"
   ]
  },
  {
   "cell_type": "markdown",
   "id": "d4140e5b",
   "metadata": {},
   "source": [
    "O utilizador escolhe um distrito e um concelho. Estes serão usados para construir o url do Casa Sapo a usar no request. Para isso, foi construído dicionário com os concelhos para cada distrito, com informação obtida na Internet."
   ]
  },
  {
   "cell_type": "code",
   "execution_count": 1,
   "id": "d637db8c",
   "metadata": {},
   "outputs": [],
   "source": [
    "# Exemplo de trabalho\n",
    "\n",
    "user_distrito = 'Viseu'\n",
    "user_concelho = 'São Pedro do Sul'\n",
    "\n",
    "user_lat = 40.759687500941105\n",
    "user_long = -8.06400884491926\n",
    "\n",
    "# Latitudes e longitudes extremas de Portugal\n",
    "max_lat_N = 42.153977917467444\n",
    "max_lat_S = 32.63296026655531\n",
    "max_long_W = -31.274994594732977\n",
    "max_long_E = -6.189362584898822"
   ]
  },
  {
   "cell_type": "markdown",
   "id": "ab5ec0db",
   "metadata": {},
   "source": [
    "As coordenadas fornecidas pelo utilizador não podem ultrapassar os limites geográficos de Portugal."
   ]
  },
  {
   "cell_type": "code",
   "execution_count": null,
   "id": "b484672d",
   "metadata": {},
   "outputs": [],
   "source": [
    "# Pontos geográficos extremos de Portugal\n",
    "max_lat_N = 42.153977917467444\n",
    "max_lat_S = 32.63296026655531\n",
    "max_long_W = -31.274994594732977\n",
    "max_long_E = -6.189362584898822"
   ]
  },
  {
   "cell_type": "markdown",
   "id": "420953b7",
   "metadata": {},
   "source": [
    "## API"
   ]
  },
  {
   "cell_type": "markdown",
   "id": "ced0b064",
   "metadata": {},
   "source": [
    "Para obter uma lista de imóveis à venda numa zona, é necessário fazer um GET request à API introduzindo o ID e o nome da zona. O ID da zona corresponde à concatenação apresentada no campo seguinte, em que o dicionário `dados_concelhos`, construído manualmente, faz corresponder um número ao concelho inserido pelo utilizador. Na maior parte dos concelhos, esse número corresponde ao código da Autoridade Tributária para o concelho. O nome da zona é obtido na própria API partindo do ID."
   ]
  },
  {
   "cell_type": "markdown",
   "id": "78c4377a",
   "metadata": {},
   "source": [
    "Obtenção do ID da zona:"
   ]
  },
  {
   "cell_type": "code",
   "execution_count": 62,
   "id": "98e6c33c",
   "metadata": {},
   "outputs": [
    {
     "data": {
      "text/plain": [
       "'0-EU-PT-18-16'"
      ]
     },
     "execution_count": 62,
     "metadata": {},
     "output_type": "execute_result"
    }
   ],
   "source": [
    "zona_id = '0-EU-PT-' + dados_concelhos[user_distrito][user_concelho]\n",
    "zona_id"
   ]
  },
  {
   "cell_type": "markdown",
   "id": "273b0b23",
   "metadata": {},
   "source": [
    "Obtenção do nome da zona:"
   ]
  },
  {
   "cell_type": "code",
   "execution_count": 63,
   "id": "c5d98651",
   "metadata": {
    "scrolled": true
   },
   "outputs": [
    {
     "data": {
      "text/plain": [
       "'São Pedro do Sul, Viseu'"
      ]
     },
     "execution_count": 63,
     "metadata": {},
     "output_type": "execute_result"
    }
   ],
   "source": [
    "# Obtém json da API com informação sobre IDs e nomes de zonas similares ao do concelho fornecido pelo utilizador\n",
    "\n",
    "url = \"https://idealista2.p.rapidapi.com/auto-complete\"\n",
    "querystring = {\"prefix\":user_concelho, \"country\":\"pt\"}\n",
    "\n",
    "headers = {\n",
    "    \"X-RapidAPI-Key\": api_key,\n",
    "    \"X-RapidAPI-Host\": \"idealista2.p.rapidapi.com\"\n",
    "}\n",
    "\n",
    "response = requests.request(\"GET\", url, headers=headers, params=querystring)\n",
    "zonas = response.json()\n",
    "\n",
    "# Compara as zonas obtidas acima com a zona pretendida através do ID da zona e obtém o nome\n",
    "\n",
    "for zona in zonas['locations']:\n",
    "    try:\n",
    "        if zona['locationId'] == zona_id:\n",
    "            zona_nome = zona['name']\n",
    "    except Exception:\n",
    "        pass\n",
    "    \n",
    "zona_nome"
   ]
  },
  {
   "cell_type": "markdown",
   "id": "127d1ac3",
   "metadata": {},
   "source": [
    "Com o ID e o nome, é possível obter a lista das propriedades no concelho escolhido. Esta informação é actualizada diariamente pelo Idealista. No caso presente, foi definido um número máximo de propriedades de 40."
   ]
  },
  {
   "cell_type": "code",
   "execution_count": 76,
   "id": "03929fae",
   "metadata": {},
   "outputs": [],
   "source": [
    "url = \"https://idealista2.p.rapidapi.com/properties/list\"\n",
    "\n",
    "querystring = {\n",
    "    \"locationId\": zona_id,\n",
    "    \"locationName\": zona_nome,\n",
    "    \"operation\": \"sale\",\n",
    "    \"numPage\": \"1\",\n",
    "    \"maxItems\": \"40\",\n",
    "    \"sort\": \"asc\",\n",
    "    \"locale\": \"pt\",\n",
    "    \"country\": \"pt\"\n",
    "}\n",
    "\n",
    "headers = {\n",
    "    \"X-RapidAPI-Key\": api_key,\n",
    "    \"X-RapidAPI-Host\": \"idealista2.p.rapidapi.com\"\n",
    "}\n",
    "\n",
    "response = requests.request(\"GET\", url, headers=headers, params=querystring)\n",
    "resultados_pesq = response.json()['elementList']"
   ]
  },
  {
   "cell_type": "code",
   "execution_count": 78,
   "id": "d2159c08",
   "metadata": {
    "scrolled": false
   },
   "outputs": [
    {
     "data": {
      "text/plain": [
       "40"
      ]
     },
     "execution_count": 78,
     "metadata": {},
     "output_type": "execute_result"
    }
   ],
   "source": [
    "len(resultados_pesq)"
   ]
  },
  {
   "cell_type": "markdown",
   "id": "c8268d02",
   "metadata": {},
   "source": []
  }
 ],
 "metadata": {
  "kernelspec": {
   "display_name": "Python 3 (ipykernel)",
   "language": "python",
   "name": "python3"
  },
  "language_info": {
   "codemirror_mode": {
    "name": "ipython",
    "version": 3
   },
   "file_extension": ".py",
   "mimetype": "text/x-python",
   "name": "python",
   "nbconvert_exporter": "python",
   "pygments_lexer": "ipython3",
   "version": "3.8.12"
  },
  "toc": {
   "base_numbering": "",
   "nav_menu": {},
   "number_sections": false,
   "sideBar": true,
   "skip_h1_title": false,
   "title_cell": "Table of Contents",
   "title_sidebar": "Contents",
   "toc_cell": false,
   "toc_position": {
    "height": "calc(100% - 180px)",
    "left": "10px",
    "top": "150px",
    "width": "267px"
   },
   "toc_section_display": true,
   "toc_window_display": false
  }
 },
 "nbformat": 4,
 "nbformat_minor": 5
}
