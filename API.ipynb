{
 "cells": [
  {
   "cell_type": "markdown",
   "id": "9b0a2ef9",
   "metadata": {},
   "source": [
    "KWIKVAL - Rui Cruzeiro - Dezembro 2022\n",
    "\n",
    "O objectivo deste documento é a criação de uma ferramenta simples de avaliação de apartamentos (Kwikval) com recurso a Machine Learning. Os passos dados pela ferramenta são os seguintes:\n",
    "1. INPUTS: Pedir ao utilizador um distrito, um concelho, coordenadas geográficas e as áreas do imóvel;\n",
    "2. API: Pesquisar os anúncios do Idealista que mais se assemelham ao fornecido pelo utilizador. Para tal, foi criada uma conta no RapidAPI que permite 500 pesquisas gratuitas por mês na API do Idealista;\n",
    "3. MÉTODO TRADICIONAL (COMPARATIVO DE MERCADO): Fazer homogeneização de áreas e dedução da margem de negociação;\n",
    "4. MACHINE LEARNING: Aplicação de Regressão Linear com o Scikit-Learn (o que corresponde à aplicação do Método Comparativo de Mercado (método tradicional de avaliação imobiliária)."
   ]
  },
  {
   "cell_type": "code",
   "execution_count": 1,
   "id": "b5701e22",
   "metadata": {},
   "outputs": [],
   "source": [
    "import numpy as np\n",
    "import pandas as pd\n",
    "import requests\n",
    "from math import radians, cos, sin, asin, sqrt\n",
    "from concelhos import dados_concelhos\n",
    "from idealista_api import api_key\n",
    "from sklearn.preprocessing import MinMaxScaler, RobustScaler, OneHotEncoder\n",
    "from sklearn.linear_model import LinearRegression"
   ]
  },
  {
   "cell_type": "markdown",
   "id": "e54b41d7",
   "metadata": {},
   "source": [
    "## INPUTS"
   ]
  },
  {
   "cell_type": "markdown",
   "id": "d4140e5b",
   "metadata": {},
   "source": [
    "O utilizador introduz as informações seguintes, devendo as áreas ser extraídas da Caderneta Predial Urbana do apartamento. Distrito, concelho, tipologia e Área Bruta Privativa são usados para construir o request a fazer à API do Idealista."
   ]
  },
  {
   "cell_type": "code",
   "execution_count": 2,
   "id": "d637db8c",
   "metadata": {},
   "outputs": [],
   "source": [
    "# Exemplo de trabalho\n",
    "\n",
    "user_distrito = 'Coimbra'\n",
    "user_concelho = 'Coimbra'\n",
    "user_tipologia = 2       # T1, T2, T3, etc.\n",
    "user_area = 83           # Área Bruta Privativa\n",
    "user_dep = 39            # Área Bruta Dependente\n",
    "user_wcs = 1             # Número de casas de banho\n",
    "user_andar = 0           # Piso (Caves, sub-caves e r/c são 0)\n",
    "user_tem_elev = 'Lift'   # Lift ou NoLift\n",
    "user_tem_estac = 'Park'  # Park ou NoPark"
   ]
  },
  {
   "cell_type": "markdown",
   "id": "f062de5d",
   "metadata": {},
   "source": [
    "O utilizador fornece também as coordenadas de localização do imóvel. Estas serão usadas para seleccionar os imóveis mais próximos entre todos aqueles devolvidos pelo request à API."
   ]
  },
  {
   "cell_type": "code",
   "execution_count": 3,
   "id": "d3faa705",
   "metadata": {},
   "outputs": [],
   "source": [
    "user_lat = 40.201607\n",
    "user_lon = -8.398265\n",
    "user_coord_str = str(user_lat) + ',' + str(user_lon)"
   ]
  },
  {
   "cell_type": "markdown",
   "id": "80c1ecc0",
   "metadata": {},
   "source": [
    "As coordenadas fornecidas pelo utilizador não podem ultrapassar os limites geográficos de Portugal."
   ]
  },
  {
   "cell_type": "code",
   "execution_count": 4,
   "id": "67b6e498",
   "metadata": {},
   "outputs": [],
   "source": [
    "# Pontos geográficos extremos de Portugal\n",
    "max_lat_N = 42.153978\n",
    "max_lat_S = 32.632960\n",
    "max_lon_W = -31.274995\n",
    "max_lon_E = -6.189363"
   ]
  },
  {
   "cell_type": "markdown",
   "id": "420953b7",
   "metadata": {},
   "source": [
    "## API"
   ]
  },
  {
   "cell_type": "markdown",
   "id": "ced0b064",
   "metadata": {},
   "source": [
    "Para obter uma lista de imóveis à venda numa zona, é necessário fazer um GET request à API introduzindo o ID e o nome da zona. O ID da zona corresponde à concatenação apresentada no campo seguinte, em que o dicionário `dados_concelhos`, construído manualmente, faz corresponder um número ao concelho inserido pelo utilizador. Na maior parte dos concelhos, esse número corresponde ao código da Autoridade Tributária para o concelho. O nome da zona é obtido na própria API partindo do ID."
   ]
  },
  {
   "cell_type": "markdown",
   "id": "22a07166",
   "metadata": {},
   "source": [
    "Obtenção do ID da zona:"
   ]
  },
  {
   "cell_type": "code",
   "execution_count": 5,
   "id": "4ba1a039",
   "metadata": {},
   "outputs": [
    {
     "data": {
      "text/plain": [
       "'0-EU-PT-06-03'"
      ]
     },
     "execution_count": 5,
     "metadata": {},
     "output_type": "execute_result"
    }
   ],
   "source": [
    "zona_id = '0-EU-PT-' + dados_concelhos[user_distrito][user_concelho]\n",
    "zona_id"
   ]
  },
  {
   "cell_type": "markdown",
   "id": "e6df7ddc",
   "metadata": {},
   "source": [
    "Obtenção do nome da zona:"
   ]
  },
  {
   "cell_type": "code",
   "execution_count": 6,
   "id": "136ff08d",
   "metadata": {
    "scrolled": true
   },
   "outputs": [
    {
     "data": {
      "text/plain": [
       "'Coimbra, Coimbra'"
      ]
     },
     "execution_count": 6,
     "metadata": {},
     "output_type": "execute_result"
    }
   ],
   "source": [
    "# Obtém json da API com informação sobre IDs e nomes de zonas similares ao do concelho fornecido pelo utilizador\n",
    "\n",
    "url = \"https://idealista2.p.rapidapi.com/auto-complete\"\n",
    "querystring = {\"prefix\":user_concelho, \"country\":\"pt\"}\n",
    "\n",
    "headers = {\n",
    "    \"X-RapidAPI-Key\": api_key,\n",
    "    \"X-RapidAPI-Host\": \"idealista2.p.rapidapi.com\"\n",
    "}\n",
    "\n",
    "response = requests.request(\"GET\", url, headers=headers, params=querystring)\n",
    "zonas = response.json()\n",
    "\n",
    "# Compara as zonas obtidas acima com a zona pretendida através do ID da zona e obtém o nome\n",
    "\n",
    "for zona in zonas['locations']:\n",
    "    try:\n",
    "        if zona['locationId'] == zona_id:\n",
    "            zona_nome = zona['name']\n",
    "    except Exception:\n",
    "        pass\n",
    "    \n",
    "zona_nome"
   ]
  },
  {
   "cell_type": "markdown",
   "id": "23c1338b",
   "metadata": {},
   "source": [
    "Com o ID e o nome, é possível obter a lista das propriedades no concelho escolhido (usando também as coordenadas). Esta informação é actualizada diariamente pelo Idealista. A API só permite um número máximo de 40 resultados por request, portanto são feitos 3 requests às 3 primeiras páginas de resultados correspondentes.\n",
    "É feito um pedido de anúncios activos de imóveis residenciais com uma variação de área de 10% relativamente ao imóvel em avaliação."
   ]
  },
  {
   "cell_type": "code",
   "execution_count": 7,
   "id": "479dfc11",
   "metadata": {},
   "outputs": [],
   "source": [
    "# Recolhe a informação nas 3 primeiras páginas de resultados do Idealista\n",
    "# (O Idealista não lança mais do que 40 resultados por página, mesmo que maxItens seja superior)\n",
    "\n",
    "url = \"https://idealista2.p.rapidapi.com/properties/list\"\n",
    "\n",
    "resultados_pesq = []\n",
    "\n",
    "for i in range(1,4): # 3 requests\n",
    "    \n",
    "    querystring = {\n",
    "        \"locationId\": zona_id,\n",
    "        \"locationName\": zona_nome,\n",
    "        \"operation\": \"sale\",\n",
    "        \"numPage\": str(i), # 3 primeiras páginas\n",
    "        \"propertyType\": \"homes\",\n",
    "        \"center\": user_coord_str,\n",
    "        \"distance\": 10,\n",
    "        \"maxSize\": int(user_area * 1.1),\n",
    "        \"minSize\": int(user_area * 0.9),\n",
    "        \"state\": \"active\",\n",
    "        \"maxItems\": 50,\n",
    "        \"sort\": \"asc\", # ascendente em preço\n",
    "        \"locale\": \"pt\",\n",
    "        \"country\": \"pt\"\n",
    "    }\n",
    "\n",
    "    headers = {\n",
    "        \"X-RapidAPI-Key\": api_key,\n",
    "        \"X-RapidAPI-Host\": \"idealista2.p.rapidapi.com\"\n",
    "    }\n",
    "\n",
    "    response = requests.request(\"GET\", url, headers=headers, params=querystring)\n",
    "    resultados_pesq.append(response.json()['elementList'])\n",
    "\n",
    "# Cria uma lista \"flattened\" com os 120 resultados    \n",
    "resultados_lista = [item for sublist in resultados_pesq for item in sublist]"
   ]
  },
  {
   "cell_type": "markdown",
   "id": "0473a1b5",
   "metadata": {},
   "source": [
    "A API só permite filtrar por `\"homes\"`, o que inclui todo o tipo de imóveis residenciais, não só apartamentos. Portanto, é necessário filtrar a lista obtida acima por `\"flat\"`. Na filtragem, também se descartaram os imóveis com tipologias diferentes à do imóvel em apreço."
   ]
  },
  {
   "cell_type": "markdown",
   "id": "842efc13",
   "metadata": {},
   "source": [
    "Nota: Os resultados filtrados encontrados a seguir serão usados na secção de Machine Learning."
   ]
  },
  {
   "cell_type": "code",
   "execution_count": 8,
   "id": "635a1c77",
   "metadata": {},
   "outputs": [],
   "source": [
    "# Filtra apenas os apartamentos\n",
    "\n",
    "resultados_filtrados = []\n",
    "\n",
    "for resultado in resultados_lista:\n",
    "    if resultado['propertyType'] == 'flat' and resultado['rooms'] == user_tipologia:\n",
    "        resultados_filtrados.append(resultado)"
   ]
  },
  {
   "cell_type": "markdown",
   "id": "b294ce92",
   "metadata": {},
   "source": [
    "## MÉTODO TRADICIONAL (COMPARATIVO DE MERCADO)"
   ]
  },
  {
   "cell_type": "markdown",
   "id": "a41a92b1",
   "metadata": {},
   "source": [
    "De todos os resultados, são seleccionados os que têm coordenadas mais próximas à fornecida pelo utilizador. O número máximo de comparáveis a usar, `n`, é escolhido de seguida."
   ]
  },
  {
   "cell_type": "code",
   "execution_count": 9,
   "id": "2667c878",
   "metadata": {},
   "outputs": [],
   "source": [
    "n_comparaveis = 20"
   ]
  },
  {
   "cell_type": "markdown",
   "id": "01136353",
   "metadata": {},
   "source": [
    "Para cálculo da distância entre o imóvel em avaliação e os da lista, foi usada a fórmula de haversine. Esta foi definida na função seguinte."
   ]
  },
  {
   "cell_type": "code",
   "execution_count": 10,
   "id": "54354e9e",
   "metadata": {},
   "outputs": [],
   "source": [
    "def haversine(lat1, lon1, lat2, lon2):\n",
    "    \"\"\"\n",
    "    Distância entre dois pontos de uma esfera a partir das suas latitudes e longitudes\n",
    "    \"\"\"\n",
    "    \n",
    "    # Converte graus decimais para radianos\n",
    "    lat1, lon1, lat2, lon2 = map(radians, [lat1, lon1, lat2, lon2])\n",
    "\n",
    "    # Fórmula de haversine \n",
    "    dlon = lon2 - lon1 \n",
    "    dlat = lat2 - lat1 \n",
    "    a = sin(dlat/2)**2 + cos(lat1) * cos(lat2) * sin(dlon/2)**2\n",
    "    c = 2 * asin(sqrt(a)) \n",
    "    r = 6371 # Raio da Terra em quilómetros\n",
    "    return c * r"
   ]
  },
  {
   "cell_type": "code",
   "execution_count": 11,
   "id": "ebdbc5d1",
   "metadata": {},
   "outputs": [],
   "source": [
    "# Calcula as distâncias haversine e devolve a lista dos 10 imóveis mais próximos (comparáveis para o Método Comparativo)\n",
    "\n",
    "distancias_lista = []\n",
    "\n",
    "for resultado in resultados_filtrados:\n",
    "    distancias_lista.append(haversine(user_lat, user_lon, float(resultado['latitude']), float(resultado['longitude'])))\n",
    "    \n",
    "distancias_ind = [distancias_lista.index(dist) for dist in sorted(distancias_lista)[:n_comparaveis]]\n",
    "\n",
    "comparaveis = [resultados_filtrados[ind] for ind in distancias_ind]"
   ]
  },
  {
   "cell_type": "markdown",
   "id": "7f9ba497",
   "metadata": {},
   "source": [
    "Estes são os `n` comparáveis mais próximos geograficamente do apartamento que se pretende avaliar:"
   ]
  },
  {
   "cell_type": "code",
   "execution_count": 12,
   "id": "7c98aa69",
   "metadata": {},
   "outputs": [
    {
     "name": "stdout",
     "output_type": "stream",
     "text": [
      "https://www.idealista.pt/imovel/32256241\n",
      "https://www.idealista.pt/imovel/31585637\n",
      "https://www.idealista.pt/imovel/32237085\n",
      "https://www.idealista.pt/imovel/32257759\n",
      "https://www.idealista.pt/imovel/32256240\n",
      "https://www.idealista.pt/imovel/32276019\n",
      "https://www.idealista.pt/imovel/32181843\n",
      "https://www.idealista.pt/imovel/32181843\n",
      "https://www.idealista.pt/imovel/32181843\n",
      "https://www.idealista.pt/imovel/32320515\n",
      "https://www.idealista.pt/imovel/32270033\n",
      "https://www.idealista.pt/imovel/32299754\n",
      "https://www.idealista.pt/imovel/32320612\n",
      "https://www.idealista.pt/imovel/32320545\n",
      "https://www.idealista.pt/imovel/32299755\n",
      "https://www.idealista.pt/imovel/32270032\n",
      "https://www.idealista.pt/imovel/31797881\n",
      "https://www.idealista.pt/imovel/32299781\n",
      "https://www.idealista.pt/imovel/32270040\n",
      "https://www.idealista.pt/imovel/32320623\n"
     ]
    }
   ],
   "source": [
    "for comparavel in comparaveis:\n",
    "    print('https://www.idealista.pt/imovel/' + comparavel['propertyCode'])"
   ]
  },
  {
   "cell_type": "markdown",
   "id": "4844d0cf",
   "metadata": {},
   "source": [
    "Visto que o valor do apartamento não varia linearmente com a área, é necessário fazer homogeneização de áreas. Esta foi feita com base na Fórmula de Ajustamento de Pulsares do Prof. Ruy Figueiredo, que ajusta a área de imóveis residenciais calculando um factor de homogeneização pela fórmula seguinte:"
   ]
  },
  {
   "cell_type": "markdown",
   "id": "9b8d4d81",
   "metadata": {},
   "source": [
    "$f_{homogeneização} = \\Biggl( \\dfrac{A_{comparável}}{A_{imóvel \\thinspace em \\thinspace avaliação}}\\ \\Biggr) ^{1/4} $"
   ]
  },
  {
   "cell_type": "markdown",
   "id": "908670f4",
   "metadata": {},
   "source": [
    "Na homogeneização, é também deduzida uma percentagem de 5% ao valor anunciado dos comparáveis, correspondente à habitual margem de negociação, assim como uma percentagem de 10% se o imóvel anunciado tiver estacionamento e este estiver incluído no valor."
   ]
  },
  {
   "cell_type": "code",
   "execution_count": 13,
   "id": "2d39814d",
   "metadata": {},
   "outputs": [],
   "source": [
    "### Homogeneização ###\n",
    "\n",
    "# Valores unitários dos comparáveis\n",
    "val_unit_comparaveis = [comparavel['price']/comparavel['size'] for comparavel in comparaveis]\n",
    "\n",
    "# Coeficientes de homogeneização de área\n",
    "f_homog_areas = [(comparavel['size']/user_area)**0.25 for comparavel in comparaveis]\n",
    "\n",
    "# Coeficientes de homogeneização de margem de negociação\n",
    "f_margem_neg = [0.90 for comparavel in comparaveis]\n",
    "\n",
    "# Coeficientes de homogeneização de estacionamento\n",
    "f_estacionamento = []\n",
    "\n",
    "for comparavel in comparaveis:\n",
    "    try:\n",
    "        if comparavel['parkingSpace']['hasParkingSpace'] and comparavel['parkingSpace']['isParkingSpaceIncludedInPrice']:\n",
    "            f_estacionamento.append(0.9)\n",
    "        else:\n",
    "            f_estacionamento.append(1)\n",
    "    except:\n",
    "        f_estacionamento.append(1)\n",
    "        pass"
   ]
  },
  {
   "cell_type": "markdown",
   "id": "e78ced80",
   "metadata": {},
   "source": [
    "A multiplicação destas três listas foi feita transformando-as em arrays do NumPy."
   ]
  },
  {
   "cell_type": "code",
   "execution_count": 14,
   "id": "951dfc7e",
   "metadata": {},
   "outputs": [],
   "source": [
    "val_unit_homogeneizado = np.array(val_unit_comparaveis) * np.array(f_homog_areas) * np.array(f_margem_neg) * np.array(f_estacionamento)"
   ]
  },
  {
   "cell_type": "markdown",
   "id": "a270d8c2",
   "metadata": {},
   "source": [
    "Assim, pode finalmente calcular-se o valor do imóvel pelo Método Comparativo de Mercado (um método tradicional de avaliação). É habitual considerar-se para a Área Bruta Dependente um valor unitário correspondente a 30% daquele que é encontrado para a Área Bruta Privativa. Aqui fez-se o mesmo."
   ]
  },
  {
   "cell_type": "code",
   "execution_count": 15,
   "id": "e036780d",
   "metadata": {},
   "outputs": [
    {
     "name": "stdout",
     "output_type": "stream",
     "text": [
      "O valor do apartamento obtido pelo Método Comparativo de Mercado é 208400 €.\n",
      "(arredondado às centenas)\n"
     ]
    }
   ],
   "source": [
    "val_unit_imovel = sum(val_unit_homogeneizado) / len(val_unit_homogeneizado)\n",
    "valor_area = val_unit_imovel * user_area\n",
    "valor_dep = val_unit_imovel * user_dep * 0.3\n",
    "valor_tradicional = valor_area + valor_dep\n",
    "print('O valor do apartamento obtido pelo Método Comparativo de Mercado é ' + str(int(round(valor_tradicional,-2))) + ' €.')\n",
    "print('(arredondado às centenas)')"
   ]
  },
  {
   "cell_type": "markdown",
   "id": "bfad49e3",
   "metadata": {},
   "source": [
    "## MACHINE LEARNING"
   ]
  },
  {
   "cell_type": "markdown",
   "id": "0f04fa39",
   "metadata": {},
   "source": [
    "De seguida, procura determinar-se o valor do imóvel através de Machine Learning. Usando a Regressão Linear Multivariável do Scikit-Learn, vamos treinar o modelo com os resultados devolvidos pela API (apenas os apartamentos obtidos após a filtragem). Seria desejável uma quantidade de dados superior, mas os requests gratuitos à API são limitados. De qualquer modo, tendo sido feita uma filtragem prévia dos apartamentos por localização e área, e sendo o número de features reduzido, considera-se que a amostra usada é coesa. No fundo, trata-se de uma Regressão Linear mais completa do que a que é feita manualmente pelo Método Comparativo de Mercado."
   ]
  },
  {
   "cell_type": "markdown",
   "id": "137870df",
   "metadata": {},
   "source": [
    "O passo inicial é visualizar os dados e perceber que informações fornecidas pela API podem ser relevantes na determinação do valor do apartamento. Para isso, foi criada uma Dataframe com os resultados filtrados."
   ]
  },
  {
   "cell_type": "code",
   "execution_count": 16,
   "id": "c99d2c53",
   "metadata": {},
   "outputs": [
    {
     "data": {
      "text/html": [
       "<div>\n",
       "<style scoped>\n",
       "    .dataframe tbody tr th:only-of-type {\n",
       "        vertical-align: middle;\n",
       "    }\n",
       "\n",
       "    .dataframe tbody tr th {\n",
       "        vertical-align: top;\n",
       "    }\n",
       "\n",
       "    .dataframe thead th {\n",
       "        text-align: right;\n",
       "    }\n",
       "</style>\n",
       "<table border=\"1\" class=\"dataframe\">\n",
       "  <thead>\n",
       "    <tr style=\"text-align: right;\">\n",
       "      <th></th>\n",
       "      <th>propertyCode</th>\n",
       "      <th>thumbnail</th>\n",
       "      <th>externalReference</th>\n",
       "      <th>numPhotos</th>\n",
       "      <th>floor</th>\n",
       "      <th>price</th>\n",
       "      <th>propertyType</th>\n",
       "      <th>operation</th>\n",
       "      <th>size</th>\n",
       "      <th>exterior</th>\n",
       "      <th>...</th>\n",
       "      <th>topNewDevelopment</th>\n",
       "      <th>urgentVisualHighlight</th>\n",
       "      <th>visualHighlight</th>\n",
       "      <th>preferenceHighlight</th>\n",
       "      <th>priceDropValue</th>\n",
       "      <th>dropDate</th>\n",
       "      <th>priceDropPercentage</th>\n",
       "      <th>features</th>\n",
       "      <th>highlightComment</th>\n",
       "      <th>district</th>\n",
       "    </tr>\n",
       "  </thead>\n",
       "  <tbody>\n",
       "    <tr>\n",
       "      <th>0</th>\n",
       "      <td>31839009</td>\n",
       "      <td>https://img3.idealista.pt/blur/WEB_LISTING-M/0...</td>\n",
       "      <td>GLTS2203</td>\n",
       "      <td>22</td>\n",
       "      <td>1</td>\n",
       "      <td>68000.0</td>\n",
       "      <td>flat</td>\n",
       "      <td>sale</td>\n",
       "      <td>82.0</td>\n",
       "      <td>False</td>\n",
       "      <td>...</td>\n",
       "      <td>False</td>\n",
       "      <td>False</td>\n",
       "      <td>False</td>\n",
       "      <td>False</td>\n",
       "      <td>NaN</td>\n",
       "      <td>NaN</td>\n",
       "      <td>NaN</td>\n",
       "      <td>NaN</td>\n",
       "      <td>NaN</td>\n",
       "      <td>NaN</td>\n",
       "    </tr>\n",
       "    <tr>\n",
       "      <th>1</th>\n",
       "      <td>32255879</td>\n",
       "      <td>https://img3.idealista.pt/blur/WEB_LISTING-M/0...</td>\n",
       "      <td>CBRIP 4603</td>\n",
       "      <td>21</td>\n",
       "      <td>bj</td>\n",
       "      <td>116000.0</td>\n",
       "      <td>flat</td>\n",
       "      <td>sale</td>\n",
       "      <td>84.0</td>\n",
       "      <td>False</td>\n",
       "      <td>...</td>\n",
       "      <td>False</td>\n",
       "      <td>False</td>\n",
       "      <td>False</td>\n",
       "      <td>False</td>\n",
       "      <td>NaN</td>\n",
       "      <td>NaN</td>\n",
       "      <td>NaN</td>\n",
       "      <td>NaN</td>\n",
       "      <td>NaN</td>\n",
       "      <td>NaN</td>\n",
       "    </tr>\n",
       "    <tr>\n",
       "      <th>2</th>\n",
       "      <td>32254699</td>\n",
       "      <td>https://img3.idealista.pt/blur/WEB_LISTING-M/0...</td>\n",
       "      <td>123351024-397</td>\n",
       "      <td>21</td>\n",
       "      <td>4</td>\n",
       "      <td>116000.0</td>\n",
       "      <td>flat</td>\n",
       "      <td>sale</td>\n",
       "      <td>84.0</td>\n",
       "      <td>False</td>\n",
       "      <td>...</td>\n",
       "      <td>False</td>\n",
       "      <td>False</td>\n",
       "      <td>False</td>\n",
       "      <td>False</td>\n",
       "      <td>NaN</td>\n",
       "      <td>NaN</td>\n",
       "      <td>NaN</td>\n",
       "      <td>NaN</td>\n",
       "      <td>NaN</td>\n",
       "      <td>NaN</td>\n",
       "    </tr>\n",
       "    <tr>\n",
       "      <th>3</th>\n",
       "      <td>31861051</td>\n",
       "      <td>https://img3.idealista.pt/blur/WEB_LISTING-M/0...</td>\n",
       "      <td>21749</td>\n",
       "      <td>21</td>\n",
       "      <td>NaN</td>\n",
       "      <td>120000.0</td>\n",
       "      <td>flat</td>\n",
       "      <td>sale</td>\n",
       "      <td>83.0</td>\n",
       "      <td>False</td>\n",
       "      <td>...</td>\n",
       "      <td>False</td>\n",
       "      <td>False</td>\n",
       "      <td>False</td>\n",
       "      <td>False</td>\n",
       "      <td>9000.0</td>\n",
       "      <td>1.669373e+12</td>\n",
       "      <td>7.0</td>\n",
       "      <td>NaN</td>\n",
       "      <td>NaN</td>\n",
       "      <td>NaN</td>\n",
       "    </tr>\n",
       "    <tr>\n",
       "      <th>4</th>\n",
       "      <td>31855029</td>\n",
       "      <td>https://img3.idealista.pt/blur/WEB_LISTING-M/0...</td>\n",
       "      <td>NaN</td>\n",
       "      <td>15</td>\n",
       "      <td>3</td>\n",
       "      <td>120000.0</td>\n",
       "      <td>flat</td>\n",
       "      <td>sale</td>\n",
       "      <td>83.0</td>\n",
       "      <td>False</td>\n",
       "      <td>...</td>\n",
       "      <td>False</td>\n",
       "      <td>False</td>\n",
       "      <td>False</td>\n",
       "      <td>False</td>\n",
       "      <td>9000.0</td>\n",
       "      <td>1.669375e+12</td>\n",
       "      <td>7.0</td>\n",
       "      <td>{'hasAirConditioning': False, 'hasBoxRoom': True}</td>\n",
       "      <td>NaN</td>\n",
       "      <td>NaN</td>\n",
       "    </tr>\n",
       "  </tbody>\n",
       "</table>\n",
       "<p>5 rows × 50 columns</p>\n",
       "</div>"
      ],
      "text/plain": [
       "  propertyCode                                          thumbnail  \\\n",
       "0     31839009  https://img3.idealista.pt/blur/WEB_LISTING-M/0...   \n",
       "1     32255879  https://img3.idealista.pt/blur/WEB_LISTING-M/0...   \n",
       "2     32254699  https://img3.idealista.pt/blur/WEB_LISTING-M/0...   \n",
       "3     31861051  https://img3.idealista.pt/blur/WEB_LISTING-M/0...   \n",
       "4     31855029  https://img3.idealista.pt/blur/WEB_LISTING-M/0...   \n",
       "\n",
       "  externalReference  numPhotos floor     price propertyType operation  size  \\\n",
       "0          GLTS2203         22     1   68000.0         flat      sale  82.0   \n",
       "1        CBRIP 4603         21    bj  116000.0         flat      sale  84.0   \n",
       "2     123351024-397         21     4  116000.0         flat      sale  84.0   \n",
       "3             21749         21   NaN  120000.0         flat      sale  83.0   \n",
       "4               NaN         15     3  120000.0         flat      sale  83.0   \n",
       "\n",
       "   exterior  ...  topNewDevelopment  urgentVisualHighlight visualHighlight  \\\n",
       "0     False  ...              False                  False           False   \n",
       "1     False  ...              False                  False           False   \n",
       "2     False  ...              False                  False           False   \n",
       "3     False  ...              False                  False           False   \n",
       "4     False  ...              False                  False           False   \n",
       "\n",
       "  preferenceHighlight priceDropValue      dropDate priceDropPercentage  \\\n",
       "0               False            NaN           NaN                 NaN   \n",
       "1               False            NaN           NaN                 NaN   \n",
       "2               False            NaN           NaN                 NaN   \n",
       "3               False         9000.0  1.669373e+12                 7.0   \n",
       "4               False         9000.0  1.669375e+12                 7.0   \n",
       "\n",
       "                                            features  highlightComment  \\\n",
       "0                                                NaN               NaN   \n",
       "1                                                NaN               NaN   \n",
       "2                                                NaN               NaN   \n",
       "3                                                NaN               NaN   \n",
       "4  {'hasAirConditioning': False, 'hasBoxRoom': True}               NaN   \n",
       "\n",
       "   district  \n",
       "0       NaN  \n",
       "1       NaN  \n",
       "2       NaN  \n",
       "3       NaN  \n",
       "4       NaN  \n",
       "\n",
       "[5 rows x 50 columns]"
      ]
     },
     "execution_count": 16,
     "metadata": {},
     "output_type": "execute_result"
    }
   ],
   "source": [
    "df = pd.DataFrame(resultados_filtrados)\n",
    "df.head()"
   ]
  },
  {
   "cell_type": "markdown",
   "id": "3bac1fb0",
   "metadata": {},
   "source": [
    "A API devolve muitos campos que são desnecessários para a nossa análise. De seguida, extraem-se apenas os que nos interessam."
   ]
  },
  {
   "cell_type": "markdown",
   "id": "5488401b",
   "metadata": {},
   "source": [
    "Nota: A informação sobre se o estado da propriedade, ou se é nova ou não, está muitas vezes por preencher nos anúncios. Desconheço o motivo, mas pela minha experiência na consulta do Idealista para fazer avaliações, acho preferível ignorar os campos `status`, `newDevelopment` e `newProperty`, pois não têm leitura."
   ]
  },
  {
   "cell_type": "code",
   "execution_count": 17,
   "id": "5dfef5c6",
   "metadata": {},
   "outputs": [
    {
     "data": {
      "text/html": [
       "<div>\n",
       "<style scoped>\n",
       "    .dataframe tbody tr th:only-of-type {\n",
       "        vertical-align: middle;\n",
       "    }\n",
       "\n",
       "    .dataframe tbody tr th {\n",
       "        vertical-align: top;\n",
       "    }\n",
       "\n",
       "    .dataframe thead th {\n",
       "        text-align: right;\n",
       "    }\n",
       "</style>\n",
       "<table border=\"1\" class=\"dataframe\">\n",
       "  <thead>\n",
       "    <tr style=\"text-align: right;\">\n",
       "      <th></th>\n",
       "      <th>floor</th>\n",
       "      <th>price</th>\n",
       "      <th>size</th>\n",
       "      <th>bathrooms</th>\n",
       "      <th>hasLift</th>\n",
       "      <th>parkingSpace</th>\n",
       "    </tr>\n",
       "  </thead>\n",
       "  <tbody>\n",
       "    <tr>\n",
       "      <th>0</th>\n",
       "      <td>1</td>\n",
       "      <td>68000.0</td>\n",
       "      <td>82.0</td>\n",
       "      <td>1</td>\n",
       "      <td>False</td>\n",
       "      <td>{'hasParkingSpace': True, 'isParkingSpaceInclu...</td>\n",
       "    </tr>\n",
       "    <tr>\n",
       "      <th>1</th>\n",
       "      <td>bj</td>\n",
       "      <td>116000.0</td>\n",
       "      <td>84.0</td>\n",
       "      <td>1</td>\n",
       "      <td>False</td>\n",
       "      <td>NaN</td>\n",
       "    </tr>\n",
       "    <tr>\n",
       "      <th>2</th>\n",
       "      <td>4</td>\n",
       "      <td>116000.0</td>\n",
       "      <td>84.0</td>\n",
       "      <td>1</td>\n",
       "      <td>True</td>\n",
       "      <td>{'hasParkingSpace': True, 'isParkingSpaceInclu...</td>\n",
       "    </tr>\n",
       "    <tr>\n",
       "      <th>3</th>\n",
       "      <td>NaN</td>\n",
       "      <td>120000.0</td>\n",
       "      <td>83.0</td>\n",
       "      <td>1</td>\n",
       "      <td>True</td>\n",
       "      <td>{'hasParkingSpace': True, 'isParkingSpaceInclu...</td>\n",
       "    </tr>\n",
       "    <tr>\n",
       "      <th>4</th>\n",
       "      <td>3</td>\n",
       "      <td>120000.0</td>\n",
       "      <td>83.0</td>\n",
       "      <td>1</td>\n",
       "      <td>True</td>\n",
       "      <td>{'hasParkingSpace': True, 'isParkingSpaceInclu...</td>\n",
       "    </tr>\n",
       "  </tbody>\n",
       "</table>\n",
       "</div>"
      ],
      "text/plain": [
       "  floor     price  size  bathrooms hasLift  \\\n",
       "0     1   68000.0  82.0          1   False   \n",
       "1    bj  116000.0  84.0          1   False   \n",
       "2     4  116000.0  84.0          1    True   \n",
       "3   NaN  120000.0  83.0          1    True   \n",
       "4     3  120000.0  83.0          1    True   \n",
       "\n",
       "                                        parkingSpace  \n",
       "0  {'hasParkingSpace': True, 'isParkingSpaceInclu...  \n",
       "1                                                NaN  \n",
       "2  {'hasParkingSpace': True, 'isParkingSpaceInclu...  \n",
       "3  {'hasParkingSpace': True, 'isParkingSpaceInclu...  \n",
       "4  {'hasParkingSpace': True, 'isParkingSpaceInclu...  "
      ]
     },
     "execution_count": 17,
     "metadata": {},
     "output_type": "execute_result"
    }
   ],
   "source": [
    "df = df[['floor', 'price', 'size', 'bathrooms', 'hasLift', 'parkingSpace']]\n",
    "df.head()"
   ]
  },
  {
   "cell_type": "markdown",
   "id": "4c7cc188",
   "metadata": {},
   "source": [
    "Ainda é necessário tratar os campos `floor`, `hasLift` e `parkingSpace` para estes poderem ser usados."
   ]
  },
  {
   "cell_type": "markdown",
   "id": "1e14324a",
   "metadata": {},
   "source": [
    "Limpeza do campo `floor` - As strings foram substituídas por 0 (sendo 'bj', 'st' e 'ss' as mais frequentes, que significam planta baja, sótano e sub-sótano em Espanhol), assim como os valores `NaN`; assumiu-se que quando o anúncio não tem informação sobre o piso, é porque esta é desfavorável à venda, e os rés-do-chão e caves são, habitualmente, menos apreciados do que os andares superiores."
   ]
  },
  {
   "cell_type": "code",
   "execution_count": 18,
   "id": "c7d36d72",
   "metadata": {},
   "outputs": [],
   "source": [
    "df['floor'] = np.where(df['floor'].str.isnumeric(), df['floor'], 0)\n",
    "df['floor'] = df['floor'].fillna(0)"
   ]
  },
  {
   "cell_type": "markdown",
   "id": "9cd98d19",
   "metadata": {},
   "source": [
    "Limpeza do campo `hasLift` - Lift se tiver elevador, NoLift se não tiver."
   ]
  },
  {
   "cell_type": "code",
   "execution_count": 19,
   "id": "9eb838f4",
   "metadata": {},
   "outputs": [],
   "source": [
    "df['hasLift'] = np.where(df['hasLift'] == True, 'Lift', 'NoLift')"
   ]
  },
  {
   "cell_type": "markdown",
   "id": "9b8416a7",
   "metadata": {},
   "source": [
    "Limpeza do campo `parkingSpace` - Só interessam os casos em que o imóvel tem um estacionamento incluído no preço. Park se tiver, NoPark se não tiver."
   ]
  },
  {
   "cell_type": "code",
   "execution_count": 20,
   "id": "c57a0268",
   "metadata": {},
   "outputs": [],
   "source": [
    "df['hasParking'] = np.where(df['parkingSpace'] == {'hasParkingSpace': True, 'isParkingSpaceIncludedInPrice': True}, 'Park', 'NoPark')\n",
    "df = df.drop('parkingSpace', axis = 1)"
   ]
  },
  {
   "cell_type": "markdown",
   "id": "4f6d2a9e",
   "metadata": {},
   "source": [
    "Chega-se assim ao dataset limpo. É guardada uma cópia dos nomes das colunas para auxiliar na introdução dos dados do imóvel a avaliar, a fazer posteriormente."
   ]
  },
  {
   "cell_type": "code",
   "execution_count": 21,
   "id": "6e64da47",
   "metadata": {
    "scrolled": false
   },
   "outputs": [
    {
     "data": {
      "text/html": [
       "<div>\n",
       "<style scoped>\n",
       "    .dataframe tbody tr th:only-of-type {\n",
       "        vertical-align: middle;\n",
       "    }\n",
       "\n",
       "    .dataframe tbody tr th {\n",
       "        vertical-align: top;\n",
       "    }\n",
       "\n",
       "    .dataframe thead th {\n",
       "        text-align: right;\n",
       "    }\n",
       "</style>\n",
       "<table border=\"1\" class=\"dataframe\">\n",
       "  <thead>\n",
       "    <tr style=\"text-align: right;\">\n",
       "      <th></th>\n",
       "      <th>floor</th>\n",
       "      <th>price</th>\n",
       "      <th>size</th>\n",
       "      <th>bathrooms</th>\n",
       "      <th>hasLift</th>\n",
       "      <th>hasParking</th>\n",
       "    </tr>\n",
       "  </thead>\n",
       "  <tbody>\n",
       "    <tr>\n",
       "      <th>0</th>\n",
       "      <td>1</td>\n",
       "      <td>68000.0</td>\n",
       "      <td>82.0</td>\n",
       "      <td>1</td>\n",
       "      <td>NoLift</td>\n",
       "      <td>Park</td>\n",
       "    </tr>\n",
       "    <tr>\n",
       "      <th>1</th>\n",
       "      <td>0</td>\n",
       "      <td>116000.0</td>\n",
       "      <td>84.0</td>\n",
       "      <td>1</td>\n",
       "      <td>NoLift</td>\n",
       "      <td>NoPark</td>\n",
       "    </tr>\n",
       "    <tr>\n",
       "      <th>2</th>\n",
       "      <td>4</td>\n",
       "      <td>116000.0</td>\n",
       "      <td>84.0</td>\n",
       "      <td>1</td>\n",
       "      <td>Lift</td>\n",
       "      <td>Park</td>\n",
       "    </tr>\n",
       "    <tr>\n",
       "      <th>3</th>\n",
       "      <td>0</td>\n",
       "      <td>120000.0</td>\n",
       "      <td>83.0</td>\n",
       "      <td>1</td>\n",
       "      <td>Lift</td>\n",
       "      <td>Park</td>\n",
       "    </tr>\n",
       "    <tr>\n",
       "      <th>4</th>\n",
       "      <td>3</td>\n",
       "      <td>120000.0</td>\n",
       "      <td>83.0</td>\n",
       "      <td>1</td>\n",
       "      <td>Lift</td>\n",
       "      <td>Park</td>\n",
       "    </tr>\n",
       "  </tbody>\n",
       "</table>\n",
       "</div>"
      ],
      "text/plain": [
       "  floor     price  size  bathrooms hasLift hasParking\n",
       "0     1   68000.0  82.0          1  NoLift       Park\n",
       "1     0  116000.0  84.0          1  NoLift     NoPark\n",
       "2     4  116000.0  84.0          1    Lift       Park\n",
       "3     0  120000.0  83.0          1    Lift       Park\n",
       "4     3  120000.0  83.0          1    Lift       Park"
      ]
     },
     "execution_count": 21,
     "metadata": {},
     "output_type": "execute_result"
    }
   ],
   "source": [
    "df_columns = df.columns\n",
    "df.head()"
   ]
  },
  {
   "cell_type": "markdown",
   "id": "0fdba936",
   "metadata": {},
   "source": [
    "Pode assim passar-se à fase do encoding. As features `floor`e `bathrooms` foram consideradas ordinais e são tratadas com MinMaxScaler. As features `hasLift` e `hasParking` são categorias binárias e são tratadas com OneHotEncoder. A feature `size` poderá aproximar-se de uma distribuição normal. Traçou-se o histograma da distribuição para perceber se é isso que acontece."
   ]
  },
  {
   "cell_type": "code",
   "execution_count": 22,
   "id": "6b988e04",
   "metadata": {},
   "outputs": [
    {
     "data": {
      "image/png": "[encoded data removed]",
      "text/plain": [
       "<Figure size 640x480 with 1 Axes>"
      ]
     },
     "metadata": {},
     "output_type": "display_data"
    }
   ],
   "source": [
    "df[['size']].plot.hist(bins=20);"
   ]
  },
  {
   "cell_type": "markdown",
   "id": "9bc9dc76",
   "metadata": {},
   "source": [
    "Para efeitos da presente análise considerou-se que `size` é normalmente distribuída. Devido à existência de alguns outliers na parte superior da amostra, usou-se o RobustScaler. A seguir, é feito o encoding."
   ]
  },
  {
   "cell_type": "code",
   "execution_count": 23,
   "id": "03d37b5b",
   "metadata": {},
   "outputs": [],
   "source": [
    "def pre_proc(df):   \n",
    "    \"\"\"\n",
    "    Pré-processamento do dataset obtido na API do Idealista:\n",
    "    Encoding de 'floor' com MinMaxScaler, de 'size' com RobustScaler\n",
    "    e de e 'hadLift' e 'hasPark' com OneHotEncoder  \n",
    "    \"\"\"\n",
    "    \n",
    "    # Encoding de 'floor' com MinMaxScaler\n",
    "    minmax_scaler = MinMaxScaler()\n",
    "    df[['floor', 'bathrooms']] = minmax_scaler.fit_transform(df[['floor', 'bathrooms']])\n",
    "\n",
    "    # Encoding de 'size' com RobustScaler\n",
    "    robust_scaler = RobustScaler()\n",
    "    df[['size']] = robust_scaler.fit_transform(df[['size']])\n",
    "\n",
    "    # Encoding de 'hadLift' e 'hasPark' com OneHotEncoder\n",
    "    onehot_encodr = OneHotEncoder()\n",
    "\n",
    "    lift_encoded = onehot_encodr.fit_transform(df[['hasLift']]).toarray()\n",
    "\n",
    "    for index, column in enumerate(onehot_encodr.categories_[0]):\n",
    "        df[column] = lift_encoded[:,index]\n",
    "\n",
    "    park_encoded = onehot_encodr.fit_transform(df[['hasParking']]).toarray()\n",
    "\n",
    "    for index, column in enumerate(onehot_encodr.categories_[0]):\n",
    "        df[column] = park_encoded[:,index]\n",
    "        \n",
    "    df = df.drop(['hasLift', 'hasParking'], axis = 1)    \n",
    "        \n",
    "    return df"
   ]
  },
  {
   "cell_type": "code",
   "execution_count": 24,
   "id": "01dfe2c1",
   "metadata": {},
   "outputs": [
    {
     "data": {
      "text/html": [
       "<div>\n",
       "<style scoped>\n",
       "    .dataframe tbody tr th:only-of-type {\n",
       "        vertical-align: middle;\n",
       "    }\n",
       "\n",
       "    .dataframe tbody tr th {\n",
       "        vertical-align: top;\n",
       "    }\n",
       "\n",
       "    .dataframe thead th {\n",
       "        text-align: right;\n",
       "    }\n",
       "</style>\n",
       "<table border=\"1\" class=\"dataframe\">\n",
       "  <thead>\n",
       "    <tr style=\"text-align: right;\">\n",
       "      <th></th>\n",
       "      <th>floor</th>\n",
       "      <th>price</th>\n",
       "      <th>size</th>\n",
       "      <th>bathrooms</th>\n",
       "      <th>Lift</th>\n",
       "      <th>NoLift</th>\n",
       "      <th>NoPark</th>\n",
       "      <th>Park</th>\n",
       "    </tr>\n",
       "  </thead>\n",
       "  <tbody>\n",
       "    <tr>\n",
       "      <th>0</th>\n",
       "      <td>0.166667</td>\n",
       "      <td>68000.0</td>\n",
       "      <td>-0.3</td>\n",
       "      <td>0.0</td>\n",
       "      <td>0.0</td>\n",
       "      <td>1.0</td>\n",
       "      <td>0.0</td>\n",
       "      <td>1.0</td>\n",
       "    </tr>\n",
       "    <tr>\n",
       "      <th>1</th>\n",
       "      <td>0.000000</td>\n",
       "      <td>116000.0</td>\n",
       "      <td>0.1</td>\n",
       "      <td>0.0</td>\n",
       "      <td>0.0</td>\n",
       "      <td>1.0</td>\n",
       "      <td>1.0</td>\n",
       "      <td>0.0</td>\n",
       "    </tr>\n",
       "    <tr>\n",
       "      <th>2</th>\n",
       "      <td>0.666667</td>\n",
       "      <td>116000.0</td>\n",
       "      <td>0.1</td>\n",
       "      <td>0.0</td>\n",
       "      <td>1.0</td>\n",
       "      <td>0.0</td>\n",
       "      <td>0.0</td>\n",
       "      <td>1.0</td>\n",
       "    </tr>\n",
       "    <tr>\n",
       "      <th>3</th>\n",
       "      <td>0.000000</td>\n",
       "      <td>120000.0</td>\n",
       "      <td>-0.1</td>\n",
       "      <td>0.0</td>\n",
       "      <td>1.0</td>\n",
       "      <td>0.0</td>\n",
       "      <td>0.0</td>\n",
       "      <td>1.0</td>\n",
       "    </tr>\n",
       "    <tr>\n",
       "      <th>4</th>\n",
       "      <td>0.500000</td>\n",
       "      <td>120000.0</td>\n",
       "      <td>-0.1</td>\n",
       "      <td>0.0</td>\n",
       "      <td>1.0</td>\n",
       "      <td>0.0</td>\n",
       "      <td>0.0</td>\n",
       "      <td>1.0</td>\n",
       "    </tr>\n",
       "  </tbody>\n",
       "</table>\n",
       "</div>"
      ],
      "text/plain": [
       "      floor     price  size  bathrooms  Lift  NoLift  NoPark  Park\n",
       "0  0.166667   68000.0  -0.3        0.0   0.0     1.0     0.0   1.0\n",
       "1  0.000000  116000.0   0.1        0.0   0.0     1.0     1.0   0.0\n",
       "2  0.666667  116000.0   0.1        0.0   1.0     0.0     0.0   1.0\n",
       "3  0.000000  120000.0  -0.1        0.0   1.0     0.0     0.0   1.0\n",
       "4  0.500000  120000.0  -0.1        0.0   1.0     0.0     0.0   1.0"
      ]
     },
     "execution_count": 24,
     "metadata": {},
     "output_type": "execute_result"
    }
   ],
   "source": [
    "df = pre_proc(df)\n",
    "df.head()"
   ]
  },
  {
   "cell_type": "markdown",
   "id": "74339e8b",
   "metadata": {},
   "source": [
    "A ordem das colunas `Lift`, `NoLift`, `Park` e `NoPark` muda consoante o imóvel, visto que o OneHotEncoder altera a ordem dos nomes consoante o primeiro imóvel tem ou não garagem/elevador. Não é possível prever as posições das colunas, pelo que é preciso criar uma função para reordenar as colunas individualmente."
   ]
  },
  {
   "cell_type": "code",
   "execution_count": 25,
   "id": "0c3502b4",
   "metadata": {},
   "outputs": [],
   "source": [
    "def ordenar_colunas(df):\n",
    "    \"\"\"\n",
    "    Ordena as colunas do dataset para que estas tenham sempre a mesma sequência,\n",
    "    devido à ordem variável que o OneHotEncoder dá. Também será usada no dataset\n",
    "    criado posteriormente com os dados do utilizador.\n",
    "    \"\"\"\n",
    "    \n",
    "    df_ordenado = pd.DataFrame()\n",
    "    df_ordenado['floor'] = df['floor']\n",
    "    df_ordenado['size'] = df['size']\n",
    "    df_ordenado['bathrooms'] = df['bathrooms']\n",
    "    df_ordenado['Lift'] = df['Lift']\n",
    "    df_ordenado['NoLift'] = df['NoLift']\n",
    "    df_ordenado['Park'] = df['Park']\n",
    "    df_ordenado['NoPark'] = df['NoPark']\n",
    "    df_ordenado['price'] = df['price']\n",
    "    \n",
    "    return df_ordenado"
   ]
  },
  {
   "cell_type": "code",
   "execution_count": 26,
   "id": "0ee48f20",
   "metadata": {},
   "outputs": [],
   "source": [
    "df = ordenar_colunas(df)"
   ]
  },
  {
   "cell_type": "markdown",
   "id": "51915cd7",
   "metadata": {},
   "source": [
    "O dataset está pronto para a modelação. Foi aplicada a Regressão Linear Multivariável."
   ]
  },
  {
   "cell_type": "code",
   "execution_count": 27,
   "id": "aa4093c3",
   "metadata": {},
   "outputs": [
    {
     "data": {
      "text/html": [
       "<style>#sk-container-id-1 {color: black;background-color: white;}#sk-container-id-1 pre{padding: 0;}#sk-container-id-1 div.sk-toggleable {background-color: white;}#sk-container-id-1 label.sk-toggleable__label {cursor: pointer;display: block;width: 100%;margin-bottom: 0;padding: 0.3em;box-sizing: border-box;text-align: center;}#sk-container-id-1 label.sk-toggleable__label-arrow:before {content: \"▸\";float: left;margin-right: 0.25em;color: #696969;}#sk-container-id-1 label.sk-toggleable__label-arrow:hover:before {color: black;}#sk-container-id-1 div.sk-estimator:hover label.sk-toggleable__label-arrow:before {color: black;}#sk-container-id-1 div.sk-toggleable__content {max-height: 0;max-width: 0;overflow: hidden;text-align: left;background-color: #f0f8ff;}#sk-container-id-1 div.sk-toggleable__content pre {margin: 0.2em;color: black;border-radius: 0.25em;background-color: #f0f8ff;}#sk-container-id-1 input.sk-toggleable__control:checked~div.sk-toggleable__content {max-height: 200px;max-width: 100%;overflow: auto;}#sk-container-id-1 input.sk-toggleable__control:checked~label.sk-toggleable__label-arrow:before {content: \"▾\";}#sk-container-id-1 div.sk-estimator input.sk-toggleable__control:checked~label.sk-toggleable__label {background-color: #d4ebff;}#sk-container-id-1 div.sk-label input.sk-toggleable__control:checked~label.sk-toggleable__label {background-color: #d4ebff;}#sk-container-id-1 input.sk-hidden--visually {border: 0;clip: rect(1px 1px 1px 1px);clip: rect(1px, 1px, 1px, 1px);height: 1px;margin: -1px;overflow: hidden;padding: 0;position: absolute;width: 1px;}#sk-container-id-1 div.sk-estimator {font-family: monospace;background-color: #f0f8ff;border: 1px dotted black;border-radius: 0.25em;box-sizing: border-box;margin-bottom: 0.5em;}#sk-container-id-1 div.sk-estimator:hover {background-color: #d4ebff;}#sk-container-id-1 div.sk-parallel-item::after {content: \"\";width: 100%;border-bottom: 1px solid gray;flex-grow: 1;}#sk-container-id-1 div.sk-label:hover label.sk-toggleable__label {background-color: #d4ebff;}#sk-container-id-1 div.sk-serial::before {content: \"\";position: absolute;border-left: 1px solid gray;box-sizing: border-box;top: 0;bottom: 0;left: 50%;z-index: 0;}#sk-container-id-1 div.sk-serial {display: flex;flex-direction: column;align-items: center;background-color: white;padding-right: 0.2em;padding-left: 0.2em;position: relative;}#sk-container-id-1 div.sk-item {position: relative;z-index: 1;}#sk-container-id-1 div.sk-parallel {display: flex;align-items: stretch;justify-content: center;background-color: white;position: relative;}#sk-container-id-1 div.sk-item::before, #sk-container-id-1 div.sk-parallel-item::before {content: \"\";position: absolute;border-left: 1px solid gray;box-sizing: border-box;top: 0;bottom: 0;left: 50%;z-index: -1;}#sk-container-id-1 div.sk-parallel-item {display: flex;flex-direction: column;z-index: 1;position: relative;background-color: white;}#sk-container-id-1 div.sk-parallel-item:first-child::after {align-self: flex-end;width: 50%;}#sk-container-id-1 div.sk-parallel-item:last-child::after {align-self: flex-start;width: 50%;}#sk-container-id-1 div.sk-parallel-item:only-child::after {width: 0;}#sk-container-id-1 div.sk-dashed-wrapped {border: 1px dashed gray;margin: 0 0.4em 0.5em 0.4em;box-sizing: border-box;padding-bottom: 0.4em;background-color: white;}#sk-container-id-1 div.sk-label label {font-family: monospace;font-weight: bold;display: inline-block;line-height: 1.2em;}#sk-container-id-1 div.sk-label-container {text-align: center;}#sk-container-id-1 div.sk-container {/* jupyter's `normalize.less` sets `[hidden] { display: none; }` but bootstrap.min.css set `[hidden] { display: none !important; }` so we also need the `!important` here to be able to override the default hidden behavior on the sphinx rendered scikit-learn.org. See: https://github.com/scikit-learn/scikit-learn/issues/21755 */display: inline-block !important;position: relative;}#sk-container-id-1 div.sk-text-repr-fallback {display: none;}</style><div id=\"sk-container-id-1\" class=\"sk-top-container\"><div class=\"sk-text-repr-fallback\"><pre>LinearRegression()</pre><b>In a Jupyter environment, please rerun this cell to show the HTML representation or trust the notebook. <br />On GitHub, the HTML representation is unable to render, please try loading this page with nbviewer.org.</b></div><div class=\"sk-container\" hidden><div class=\"sk-item\"><div class=\"sk-estimator sk-toggleable\"><input class=\"sk-toggleable__control sk-hidden--visually\" id=\"sk-estimator-id-1\" type=\"checkbox\" checked><label for=\"sk-estimator-id-1\" class=\"sk-toggleable__label sk-toggleable__label-arrow\">LinearRegression</label><div class=\"sk-toggleable__content\"><pre>LinearRegression()</pre></div></div></div></div></div>"
      ],
      "text/plain": [
       "LinearRegression()"
      ]
     },
     "execution_count": 27,
     "metadata": {},
     "output_type": "execute_result"
    }
   ],
   "source": [
    "lin_reg = LinearRegression()\n",
    "\n",
    "X = df.drop('price', axis = 1)\n",
    "y = df['price']\n",
    "\n",
    "lin_reg.fit(X, y)"
   ]
  },
  {
   "cell_type": "markdown",
   "id": "dca466e2",
   "metadata": {},
   "source": [
    "É criado um dataset com os dados introduzidos pelo utilizador."
   ]
  },
  {
   "cell_type": "code",
   "execution_count": 28,
   "id": "fc15ea64",
   "metadata": {},
   "outputs": [],
   "source": [
    "user_info = [[\n",
    "    user_andar,\n",
    "    'TBD',\n",
    "    user_area,\n",
    "    user_wcs,\n",
    "    user_tem_elev,\n",
    "    user_tem_estac,\n",
    "    ]]\n",
    "\n",
    "user_df = pd.DataFrame(data=user_info, columns=df_columns) # São usados os nomes das colunas guardados anteriormente"
   ]
  },
  {
   "cell_type": "markdown",
   "id": "70f9d19d",
   "metadata": {},
   "source": [
    "É aplicado o pré-processamento aos dados do utilizador. O OneHotEncoder não desmultiplica as colunas quando detecta apenas uma categoria, pelo que essa separação é feita manualmente."
   ]
  },
  {
   "cell_type": "code",
   "execution_count": 29,
   "id": "42184b96",
   "metadata": {},
   "outputs": [],
   "source": [
    "user_df = pre_proc(user_df)\n",
    "\n",
    "if user_tem_elev == 1:\n",
    "    user_df['Lift'] = 1.0\n",
    "    user_df['NoLift'] = 0.0\n",
    "else:\n",
    "    user_df['Lift'] = 0.0\n",
    "    user_df['NoLift'] = 1.0    \n",
    "    \n",
    "if user_tem_estac == 1:\n",
    "    user_df['Park'] = 1.0\n",
    "    user_df['NoPark'] = 0.0\n",
    "else:\n",
    "    user_df['Park'] = 0.0\n",
    "    user_df['NoPark'] = 1.0    \n",
    "    \n",
    "user_df = ordenar_colunas(user_df)\n",
    "X_user = user_df.drop(['price'], axis = 1)"
   ]
  },
  {
   "cell_type": "markdown",
   "id": "ad5ef706",
   "metadata": {},
   "source": [
    "E faz-se finalmente a previsão do valor obtido por Machine Learning."
   ]
  },
  {
   "cell_type": "code",
   "execution_count": 30,
   "id": "3d0a32e8",
   "metadata": {},
   "outputs": [
    {
     "name": "stdout",
     "output_type": "stream",
     "text": [
      "O valor do apartamento obtido por Machine Learning é 183800 €.\n",
      "(arredondado às centenas)\n"
     ]
    }
   ],
   "source": [
    "y_user = lin_reg.predict(X_user)\n",
    "print('O valor do apartamento obtido por Machine Learning é ' + str(round(int(y_user[0]),-2)) + ' €.')\n",
    "print('(arredondado às centenas)')"
   ]
  }
 ],
 "metadata": {
  "kernelspec": {
   "display_name": "Python 3 (ipykernel)",
   "language": "python",
   "name": "python3"
  },
  "language_info": {
   "codemirror_mode": {
    "name": "ipython",
    "version": 3
   },
   "file_extension": ".py",
   "mimetype": "text/x-python",
   "name": "python",
   "nbconvert_exporter": "python",
   "pygments_lexer": "ipython3",
   "version": "3.8.12"
  },
  "toc": {
   "base_numbering": "",
   "nav_menu": {},
   "number_sections": false,
   "sideBar": true,
   "skip_h1_title": false,
   "title_cell": "Table of Contents",
   "title_sidebar": "Contents",
   "toc_cell": false,
   "toc_position": {
    "height": "calc(100% - 180px)",
    "left": "10px",
    "top": "150px",
    "width": "267px"
   },
   "toc_section_display": true,
   "toc_window_display": false
  }
 },
 "nbformat": 4,
 "nbformat_minor": 5
}
